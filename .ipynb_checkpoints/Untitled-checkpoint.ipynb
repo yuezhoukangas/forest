{
 "cells": [
  {
   "cell_type": "markdown",
   "metadata": {},
   "source": [
    "# Forest management problem with robust optimization"
   ]
  },
  {
   "cell_type": "markdown",
   "metadata": {},
   "source": [
    "   ## convert data to proper format"
   ]
  },
  {
   "cell_type": "code",
   "execution_count": 79,
   "metadata": {},
   "outputs": [
    {
     "name": "stdout",
     "output_type": "stream",
     "text": [
      "1380\n"
     ]
    },
    {
     "data": {
      "text/plain": [
       "'price = np.zeros((600,6))\\nprice[0:100] = reformat(lines[0])\\nfor i in range(1,6):\\n    price[i*100:i*100+100] = reformat(lines[i])#every 100 row of price is a time period\\nprint(len(price))\\nnp.savetxt(\"p_price.csv\", price)'"
      ]
     },
     "execution_count": 79,
     "metadata": {},
     "output_type": "execute_result"
    }
   ],
   "source": [
    "import numpy as np\n",
    "\n",
    "def reformat(period_data):\n",
    "    #print('in function')\n",
    "    new = period_data[period_data.find(\"[\")+1:period_data.find(\"]]\")+1]\n",
    "    \n",
    "  \n",
    "    a_row = np.zeros((100,6))\n",
    "    left = []\n",
    "    right = []\n",
    "    for ind, item in enumerate(new):\n",
    "        if item == '[':\n",
    "            left.append(ind)\n",
    "        if item ==']':\n",
    "            right.append(ind)\n",
    "    #print(a_row)\n",
    "    #print(len(left))\n",
    "    #print(len(right))\n",
    "    for i in range(0,100):\n",
    "        current = new[left[i]+1:right[i]]\n",
    "        current = current.split(',')\n",
    "        for value in current:\n",
    "            value = float(value)\n",
    "            a_row[i] = current\n",
    "        \n",
    "    return a_row #a_row is a 100*6 matrix in a period, 100 scenarios for 6 types of trees\n",
    "\n",
    "def reformat_data(input_data):\n",
    "    #stand_data = input_data[input_data.find(\"[[[[\")+1:input_data.find(\"]]]]\")+1]\n",
    "    count = 0\n",
    "    #input_data = input_data[0:2]\n",
    "    for indx, item in enumerate(input_data):\n",
    "        stand_data = item[:item.find(\"]]]\")+1]\n",
    "        if stand_data == \"\":\n",
    "            count = count+1\n",
    "        #print(stand_data)\n",
    "    print(count)\n",
    "    output = 1\n",
    "    return output\n",
    "\n",
    "\n",
    "text_file = open(\"data.txt\", \"r\")\n",
    "lines = text_file.readlines()\n",
    "#print(type(lines))\n",
    "\n",
    "stand = reformat_data(lines)\n",
    "#print(len(stand))\n",
    "#The followings are treatment of price\n",
    "\"\"\"price = np.zeros((600,6))\n",
    "price[0:100] = reformat(lines[0])\n",
    "for i in range(1,6):\n",
    "    price[i*100:i*100+100] = reformat(lines[i])#every 100 row of price is a time period\n",
    "print(len(price))\n",
    "np.savetxt(\"p_price.csv\", price)\"\"\"\n",
    "\n",
    "\n",
    "#search [[ first, save until ]] to a temporary storage\n",
    "#search [, write the next 36 to a csv file separated by ;\n",
    "\n",
    "#print(lines[0][3:38])\n",
    "\n",
    "\n",
    "\n",
    "\n"
   ]
  },
  {
   "cell_type": "markdown",
   "metadata": {},
   "source": [
    "The structure of the decision variables is as follows: \n",
    "// Structure, where P\"X\" = period X, Log = logwood, Pulp = pulpwood, SP.1 = pine, SP.2 = Spruce, SP.3.4 = Birch, SP.ge.5 = other trees.\n",
    "//P1 Volume Cut Log SP 1;P1 Volume Cut Log SP 2;P1 Volume Cut Log SP 3,4;P1 Volume Cut Pulp SP 1;P1 Volume Cut Pulp SP 2;P1 Volume Cut Pulp SP 3,4;P2 Volume Cut Log SP 1;P2 Volume Cut Log SP 2;P2 Volume Cut Log SP 3,4;P2 Volume Cut Pulp SP 1;P2 Volume Cut Pulp SP 2;P2 Volume Cut Pulp SP 3,4;P3 Volume Cut Pulp SP 1;P3 Volume Cut Log SP 2;P3 Volume Cut Log SP 3,4;P3 Volume Cut Pulp SP 1;P3 Volume Cut Pulp SP 2;P3 Volume Cut Pulp SP 3,4;P4 Volume Cut Log SP 1;P4 Volume Cut Log SP 2;P4 Volume Cut Log SP 3,4;P4 Volume Cut Pulp SP 1;P4 Volume Cut Pulp SP 2;P4 Volume Cut Pulp SP 3,4;P5 Volume Cut Log SP 1;P5 Volume Cut Log SP 2;P5 Volume Cut Log SP 3,4;P5 Volume Cut Pulp SP 1;P5 Volume Cut Pulp SP 2;P5 Volume Cut Pulp SP 3,4;P6 Volume Cut Log SP 1;P6 Volume Cut Log SP 2;P6 Volume Cut Log SP 3,4;P6 Volume Cut Pulp SP 1;P6 Volume Cut Pulp SP 2;P6 Volume Cut Pulp SP 3,4;P1 Volume Pine;P2 Volume Pine;P3 Volume Pine;P4 Volume Pine;P5 Volume Pine;P6 Volume Pine;P1 Volume Spruce;P2 Volume Spruce;P3 Volume Spruce;P4 Volume Spruce;P5 Volume Spruce;P6 Volume Spruce;P1 Volume Birch;P2 Volume Birch;P3 Volume Birch;P4 Volume Birch;P5 Volume Birch;P6 Volume Birch\n",
    "[0,0,0,0,0,0,0,0,0,0,0,0,0,0,0,0,0,0,0,0,0,0,0,0,0,0,0,0,0,0,0,0,0,0,0,0,0,0,0,0,0,0,1.58332,2.23019,2.87705,3.52392,23.17972,34.41838,0,0,0,0,0,0,1]\n",
    "It tells what to do (a management alternative or schedule) \n",
    "So you need to decide which management plan you choose x_jk is a binary variable. \n",
    "\n",
    "// Deterministic part\n",
    "\n",
    "  \t\n",
    " forall(time in Periods)\n",
    "   Income_det[time] == sum(stand in Stands, schedule in Schedules,cut in Cut_variables) (decision[stand][schedule]*data[41][stand][schedule][1][Cut_p[cut][time]]*Price_2[cut][time])\n",
    " //costs come from stochastic data\n",
    "   +sum(stand in Stands, schedule in Schedules) (decision[stand][schedule]*data[41][stand][schedule][1][57+time]) // COSTS ARE NEGATIVE\n",
    "   ;\n",
    "   \n",
    " forall(time in Periods)\n",
    " Income_det[time]+ Loss_det[time]-Gain_det[time] == target;\n",
    "\n",
    "  NPV_det == sum(time in Periods)(Income_det[time]/((1+interest[iter_r])^(2.5+(5*(time-1))))) + sum(stand in Stands, schedule in Schedules) (decision[stand][schedule]*data[41][stand][schedule][1][65])/((1+interest[iter_r])^30);//+ Income_subsidy[scenario][time];"
   ]
  },
  {
   "cell_type": "code",
   "execution_count": 88,
   "metadata": {},
   "outputs": [
    {
     "name": "stdout",
     "output_type": "stream",
     "text": [
      "4\n",
      "81\n",
      "5\n",
      "25\n",
      "55\n",
      "[[0, 0, 0, 0, 0, 0, 0, 0, 0, 0, 0, 0, 0, 0, 0, 0, 0, 0, 0, 0, 0, 0, 0, 0, 0, 0, 0, 0, 0, 0, 0, 0, 0, 0, 0, 0, 0, 0, 0, 0, 0, 0, 1.58332, 2.23019, 2.87705, 3.52392, 23.17972, 34.41838, 0, 0, 0, 0, 0, 0, 1], [0, 0, 0, 0, 0, 0, 0, 0, 0, 0, 0, 0, 0, 0, 0, 0, 0, 0, 0, 0, 0, 0, 0, 0, 0, 0, 0, 0, 0, 0, 0, 0, 0, 0, 0, 0, 0, 0, 0, 0, 0, 0, 1.59253, 2.24862, 2.9047, 3.56079, 26.52047, 43.66962, 0, 0, 0, 0, 0, 0, 1], [0, 0, 0, 0, 0, 0, 0, 0, 0, 0, 0, 0, 0, 0, 0, 0, 0, 0, 0, 0, 0, 0, 0, 0, 0, 0, 0, 0, 0, 0, 0, 0, 0, 0, 0, 0, 0, 0, 0, 0, 0, 0, 1.50393, 2.07142, 2.6389, 3.20639, 20.85034, 30.89458, 0, 0, 0, 0, 0, 0, 1], [0, 0, 0, 0, 0, 0, 0, 0, 0, 0, 0, 0, 0, 0, 0, 0, 0, 0, 0, 0, 0, 0, 0, 0, 0, 0, 0, 0, 0, 0, 0, 0, 0, 0, 0, 0, 0, 0, 0, 0, 0, 0, 1.58067, 2.2249, 2.86913, 3.51335, 25.18446, 37.58116, 0, 0, 0, 0, 0, 0, 1], [0, 0, 0, 0, 0, 0, 0, 0, 0, 0, 0, 0, 0, 0, 0, 0, 0, 0, 0, 0, 0, 0, 0, 0, 0, 0, 0, 0, 0, 0, 0, 0, 0, 0, 0, 0, 0, 0, 0, 0, 0, 0, 1.78841, 2.64038, 3.49234, 4.34431, 41.3308, 68.5228, 0, 0, 0, 0, 0, 0, 1], [0, 0, 0, 0, 0, 0, 0, 0, 0, 0, 0, 0, 0, 0, 0, 0, 0, 0, 0, 0, 0, 0, 0, 0, 0, 0, 0, 0, 0, 0, 0, 0, 0, 0, 0, 0, 0, 0, 0, 0, 0, 0, 1.48767, 2.0389, 2.59012, 3.14135, 19.32351, 32.1978, 0, 0, 0, 0, 0, 0, 1], [0, 0, 0, 0, 0, 0, 0, 0, 0, 0, 0, 0, 0, 0, 0, 0, 0, 0, 0, 0, 0, 0, 0, 0, 0, 0, 0, 0, 0, 0, 0, 0, 0, 0, 0, 0, 0, 0, 0, 0, 0, 0, 1.50149, 2.06654, 2.63158, 3.19663, 18.80559, 31.2388, 0, 0, 0, 0, 0, 0, 1], [0, 0, 0, 0, 0, 0, 0, 0, 0, 0, 0, 0, 0, 0, 0, 0, 0, 0, 0, 0, 0, 0, 0, 0, 0, 0, 0, 0, 0, 0, 0, 0, 0, 0, 0, 0, 0, 0, 0, 0, 0, 0, 1.50612, 2.07578, 2.64545, 3.21512, 20.6418, 32.57596, 0, 0, 0, 0, 0, 0, 1], [0, 0, 0, 0, 0, 0, 0, 0, 0, 0, 0, 0, 0, 0, 0, 0, 0, 0, 0, 0, 0, 0, 0, 0, 0, 0, 0, 0, 0, 0, 0, 0, 0, 0, 0, 0, 0, 0, 0, 0, 0, 0, 1.71234, 2.48823, 3.26413, 4.04002, 32.13278, 50.94806, 0, 0, 0, 0, 0, 0, 1], [0, 0, 0, 0, 0, 0, 0, 0, 0, 0, 0, 0, 0, 0, 0, 0, 0, 0, 0, 0, 0, 0, 0, 0, 0, 0, 0, 0, 0, 0, 0, 0, 0, 0, 0, 0, 0, 0, 0, 0, 0, 0, 1.58608, 2.23571, 2.88535, 3.53498, 26.50804, 43.7113, 0, 0, 0, 0, 0, 0, 1], [0, 0, 0, 0, 0, 0, 0, 0, 0, 0, 0, 0, 0, 0, 0, 0, 0, 0, 0, 0, 0, 0, 0, 0, 0, 0, 0, 0, 0, 0, 0, 0, 0, 0, 0, 0, 0, 0, 0, 0, 0, 0, 1.4814, 2.02634, 2.57129, 3.11624, 19.23111, 30.53076, 0, 0, 0, 0, 0, 0, 1], [0, 0, 0, 0, 0, 0, 0, 0, 0, 0, 0, 0, 0, 0, 0, 0, 0, 0, 0, 0, 0, 0, 0, 0, 0, 0, 0, 0, 0, 0, 0, 0, 0, 0, 0, 0, 0, 0, 0, 0, 0, 0, 1.48335, 2.03025, 2.57715, 3.12406, 20.57478, 30.66483, 0, 0, 0, 0, 0, 0, 1], [0, 0, 0, 0, 0, 0, 0, 0, 0, 0, 0, 0, 0, 0, 0, 0, 0, 0, 0, 0, 0, 0, 0, 0, 0, 0, 0, 0, 0, 0, 0, 0, 0, 0, 0, 0, 0, 0, 0, 0, 0, 0, 1.59017, 2.2439, 2.89762, 3.55134, 23.99616, 38.14197, 0, 0, 0, 0, 0, 0, 1], [0, 0, 0, 0, 0, 0, 0, 0, 0, 0, 0, 0, 0, 0, 0, 0, 0, 0, 0, 0, 0, 0, 0, 0, 0, 0, 0, 0, 0, 0, 0, 0, 0, 0, 0, 0, 0, 0, 0, 0, 0, 0, 1.48733, 2.03821, 2.58909, 3.13997, 19.0023, 30.61896, 0, 0, 0, 0, 0, 0, 1], [0, 0, 0, 0, 0, 0, 0, 0, 0, 0, 0, 0, 0, 0, 0, 0, 0, 0, 0, 0, 0, 0, 0, 0, 0, 0, 0, 0, 0, 0, 0, 0, 0, 0, 0, 0, 0, 0, 0, 0, 0, 0, 1.49505, 2.05365, 2.61224, 3.17084, 19.10132, 30.35296, 0, 0, 0, 0, 0, 0, 1], [0, 0, 0, 0, 0, 0, 0, 0, 0, 0, 0, 0, 0, 0, 0, 0, 0, 0, 0, 0, 0, 0, 0, 0, 0, 0, 0, 0, 0, 0, 0, 0, 0, 0, 0, 0, 0, 0, 0, 0, 0, 0, 1.52365, 2.11085, 2.69806, 3.28526, 23.57232, 36.01698, 0, 0, 0, 0, 0, 0, 1], [0, 0, 0, 0, 0, 0, 0, 0, 0, 0, 0, 0, 0, 0, 0, 0, 0, 0, 0, 0, 0, 0, 0, 0, 0, 0, 0, 0, 0, 0, 0, 0, 0, 0, 0, 0, 0, 0, 0, 0, 0, 0, 1.50468, 2.07291, 2.64114, 3.20937, 19.29228, 32.91888, 0, 0, 0, 0, 0, 0, 1], [0, 0, 0, 0, 0, 0, 0, 0, 0, 0, 0, 0, 0, 0, 0, 0, 0, 0, 0, 0, 0, 0, 0, 0, 0, 0, 0, 0, 0, 0, 0, 0, 0, 0, 0, 0, 0, 0, 0, 0, 0, 0, 1.68503, 2.43361, 3.18219, 3.93077, 31.7504, 48.52155, 0, 0, 0, 0, 0, 0, 1], [0, 0, 0, 0, 0, 0, 0, 0, 0, 0, 0, 0, 0, 0, 0, 0, 0, 0, 0, 0, 0, 0, 0, 0, 0, 0, 0, 0, 0, 0, 0, 0, 0, 0, 0, 0, 0, 0, 0, 0, 0, 0, 1.493, 2.04955, 2.6061, 3.16265, 19.685, 29.10612, 0, 0, 0, 0, 0, 0, 1], [0, 0, 0, 0, 0, 0, 0, 0, 0, 0, 0, 0, 0, 0, 0, 0, 0, 0, 0, 0, 0, 0, 0, 0, 0, 0, 0, 0, 0, 0, 0, 0, 0, 0, 0, 0, 0, 0, 0, 0, 0, 0, 1.60048, 2.26452, 2.92855, 3.59259, 26.75994, 43.29507, 0, 0, 0, 0, 0, 0, 1], [0, 0, 0, 0, 0, 0, 0, 0, 0, 0, 0, 0, 0, 0, 0, 0, 0, 0, 0, 0, 0, 0, 0, 0, 0, 0, 0, 0, 0, 0, 0, 0, 0, 0, 0, 0, 0, 0, 0, 0, 0, 0, 1.47523, 2.014, 2.55278, 3.09156, 19.2445, 28.11856, 0, 0, 0, 0, 0, 0, 1], [0, 0, 0, 0, 0, 0, 0, 0, 0, 0, 0, 0, 0, 0, 0, 0, 0, 0, 0, 0, 0, 0, 0, 0, 0, 0, 0, 0, 0, 0, 0, 0, 0, 0, 0, 0, 0, 0, 0, 0, 0, 0, 1.47224, 2.00802, 2.54381, 3.0796, 17.23873, 25.52456, 0, 0, 0, 0, 0, 0, 1], [0, 0, 0, 0, 0, 0, 0, 0, 0, 0, 0, 0, 0, 0, 0, 0, 0, 0, 0, 0, 0, 0, 0, 0, 0, 0, 0, 0, 0, 0, 0, 0, 0, 0, 0, 0, 0, 0, 0, 0, 0, 0, 1.48696, 2.03747, 2.58798, 3.13849, 19.98376, 34.80611, 0, 0, 0, 0, 0, 0, 1], [0, 0, 0, 0, 0, 0, 0, 0, 0, 0, 0, 0, 0, 0, 0, 0, 0, 0, 0, 0, 0, 0, 0, 0, 0, 0, 0, 0, 0, 0, 0, 0, 0, 0, 0, 0, 0, 0, 0, 0, 0, 0, 1.50658, 2.07671, 2.64684, 3.21698, 21.3643, 35.46717, 0, 0, 0, 0, 0, 0, 1], [0, 0, 0, 0, 0, 0, 0, 0, 0, 0, 0, 0, 0, 0, 0, 0, 0, 0, 0, 0, 0, 0, 0, 0, 0, 0, 0, 0, 0, 0, 0, 0, 0, 0, 0, 0, 0, 0, 0, 0, 0, 0, 1.56939, 2.20234, 2.83528, 3.46823, 21.91449, 33.56778, 0, 0, 0, 0, 0, 0, 1]]\n"
     ]
    }
   ],
   "source": [
    "with open('data.txt', 'r') as myfile:\n",
    "    VARIABLES=myfile.read().replace('\\n', '')\n",
    "VARIABLES=VARIABLES.replace(\"][\", \"],[\")   \n",
    " \n",
    "VARIABLES = eval(VARIABLES)\n",
    " \n",
    "print(len(VARIABLES))  #Stands\n",
    "print(len(VARIABLES[0])) #Inventory errors\n",
    "print(len(VARIABLES[0][0])) #Schedules or management alternatives –This one is variable, based on the specific stand.\n",
    "print(len(VARIABLES[0][0][0])) #Growth model errors\n",
    "print(len(VARIABLES[0][0][0][0]))#Goals\n",
    "print (VARIABLES[0][0][0])\n",
    "Cut_p = [[1,7,13,19,25,31][2,8,14,20,26,32][3,9,15,21,27,33][4,10,16,22,28,34][5,11,17,23,29,35][6,12,18,24,30,36];"
   ]
  }
 ],
 "metadata": {
  "kernelspec": {
   "display_name": "Python 3",
   "language": "python",
   "name": "python3"
  },
  "language_info": {
   "codemirror_mode": {
    "name": "ipython",
    "version": 3
   },
   "file_extension": ".py",
   "mimetype": "text/x-python",
   "name": "python",
   "nbconvert_exporter": "python",
   "pygments_lexer": "ipython3",
   "version": "3.6.5"
  }
 },
 "nbformat": 4,
 "nbformat_minor": 2
}
